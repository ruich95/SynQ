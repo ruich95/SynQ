{
 "cells": [
  {
   "cell_type": "code",
   "execution_count": 1,
   "id": "c4c0e8cf",
   "metadata": {},
   "outputs": [],
   "source": [
    "from fifo import AxiSFIFO\n",
    "import numpy as np"
   ]
  },
  {
   "cell_type": "markdown",
   "id": "a4ffb910",
   "metadata": {},
   "source": [
    "**Test 1**: In an environment where the sink has 80% chance to receive the current data"
   ]
  },
  {
   "cell_type": "code",
   "execution_count": 2,
   "id": "61caa237",
   "metadata": {},
   "outputs": [
    {
     "name": "stdout",
     "output_type": "stream",
     "text": [
      "All data  received correctly: True\n",
      "All tlast received correctly: True\n"
     ]
    }
   ],
   "source": [
    "fifo = AxiSFIFO(\"../../build/exec/fifo4\")\n",
    "\n",
    "test_length = 8192\n",
    "\n",
    "input_data  = np.random.randint(0, 256, test_length)\n",
    "input_tlast  = np.random.randint(0, 10, test_length) < 1 # 10 % tlast signal\n",
    "output_data = [] \n",
    "output_tlast = [] \n",
    "\n",
    "send_count = 0\n",
    "recv_count = 0\n",
    "\n",
    "try: \n",
    "    fifo.forward(rst_n=False)\n",
    "    fifo.backward(True, 0, False, True)\n",
    "\n",
    "    while recv_count < test_length:\n",
    "        if send_count < test_length:\n",
    "            data    = input_data[send_count]\n",
    "            tlast   = input_tlast[send_count]\n",
    "            valid   = True\n",
    "        else:\n",
    "            data    = 0\n",
    "            tlast   = False\n",
    "            valid   = False\n",
    "            \n",
    "        output = fifo.forward()\n",
    "        nxt_ready = (np.random.randint(0, 10) > 1) # 80% ready\n",
    "        if nxt_ready and output[\"valid\"]:\n",
    "            output_data.append(output[\"data\"])\n",
    "            output_tlast.append(output[\"last\"])\n",
    "            recv_count += 1\n",
    "\n",
    "        cur_ready = fifo.backward(valid, data, nxt_ready, last=tlast)\n",
    "        if cur_ready:\n",
    "            send_count = send_count + 1\n",
    "finally:\n",
    "    fifo.terminate()\n",
    "del(fifo)\n",
    "\n",
    "output_data    = np.array(output_data)\n",
    "output_tlast    = np.array(output_tlast)\n",
    "\n",
    "data_assertion = np.all(input_data == output_data)\n",
    "tlast_assertion = np.all(input_tlast == output_tlast)\n",
    "\n",
    "print(\"All data  received correctly: {}\".format(data_assertion))\n",
    "print(\"All tlast received correctly: {}\".format(tlast_assertion))"
   ]
  },
  {
   "cell_type": "code",
   "execution_count": 4,
   "id": "bdf2bda5",
   "metadata": {},
   "outputs": [
    {
     "name": "stdout",
     "output_type": "stream",
     "text": [
      "All data  received by the FIFO is finally produced: True\n",
      "All tlast received by the FIFO is finally produced: True\n"
     ]
    }
   ],
   "source": [
    "fifo = AxiSFIFO(\"../../build/exec/fifo4\")\n",
    "\n",
    "test_length = 8192\n",
    "\n",
    "input_data  = np.random.randint(0, 256, test_length)\n",
    "input_tlast  = np.random.randint(0, 10, test_length) < 1 # 10 % tlast signal\n",
    "input_valid = np.random.randint(0, 10, test_length) > 3 # 60 % valid signal\n",
    "input_ready = np.random.randint(0, 10, test_length) > 3 # 60 % ready signal\n",
    "output_data  = np.empty_like(input_data)\n",
    "output_tlast  = np.empty_like(input_tlast)\n",
    "output_valid = np.empty_like(input_tlast)\n",
    "output_ready = np.empty_like(input_tlast)\n",
    "\n",
    "send_count = 0\n",
    "\n",
    "try:\n",
    "    fifo.forward(rst_n=False)\n",
    "    fifo.backward(True, 33, False)\n",
    "\n",
    "    for i in range(test_length):\n",
    "        data      = input_data[i]\n",
    "        tlast      = input_tlast[i]\n",
    "        valid     = input_valid[i]\n",
    "        nxt_ready = input_ready[i]\n",
    "\n",
    "        output          = fifo.forward()\n",
    "        output_data[i]  = output[\"data\"]\n",
    "        output_tlast[i]  = output[\"last\"]\n",
    "        output_valid[i] = output[\"valid\"]\n",
    "    \n",
    "        cur_ready = fifo.backward(valid, data, nxt_ready, tlast)\n",
    "        output_ready[i] = cur_ready\n",
    "finally:\n",
    "    fifo.terminate()\n",
    "\n",
    "del(fifo)\n",
    "\n",
    "received_data = input_data[input_valid * output_ready]\n",
    "received_tlast = input_tlast[input_valid * output_ready]\n",
    "\n",
    "produced_data = output_data[output_valid * input_ready]\n",
    "produced_tlast = output_tlast[output_valid * input_ready]\n",
    "\n",
    "data_assertion = np.all(received_data[:len(produced_data)] == produced_data)\n",
    "tlast_assertion = np.all(received_tlast[:len(produced_data)] == produced_tlast)\n",
    "\n",
    "print(\"All data  received by the FIFO is finally produced: {}\".format(data_assertion))\n",
    "print(\"All tlast received by the FIFO is finally produced: {}\".format(tlast_assertion))\n"
   ]
  },
  {
   "cell_type": "code",
   "execution_count": null,
   "id": "013141c7",
   "metadata": {},
   "outputs": [],
   "source": []
  }
 ],
 "metadata": {
  "kernelspec": {
   "display_name": "base",
   "language": "python",
   "name": "python3"
  },
  "language_info": {
   "codemirror_mode": {
    "name": "ipython",
    "version": 3
   },
   "file_extension": ".py",
   "mimetype": "text/x-python",
   "name": "python",
   "nbconvert_exporter": "python",
   "pygments_lexer": "ipython3",
   "version": "3.11.8"
  }
 },
 "nbformat": 4,
 "nbformat_minor": 5
}
