{
 "cells": [
  {
   "cell_type": "code",
   "execution_count": 1,
   "metadata": {},
   "outputs": [],
   "source": [
    "from wrapper import RV32I\n",
    "import numpy as np\n",
    "from tqdm import tqdm\n",
    "\n",
    "def mem_read(mem, addr):\n",
    "    addr_max = len(mem)\n",
    "    ret = np.uint32(0)\n",
    "    for i in range(4):\n",
    "        ret += (mem[addr+i] << (i * 8)) if addr + i < addr_max else 0\n",
    "    return ret.item()\n",
    "\n",
    "def mem_write(mem, addr, data):\n",
    "    addr_max = len(mem)\n",
    "    for i in range(4):\n",
    "        if (addr+i) < addr_max:\n",
    "            mem[addr+i] = (data >> (i*8)) & 0xff"
   ]
  },
  {
   "cell_type": "code",
   "execution_count": 2,
   "metadata": {},
   "outputs": [
    {
     "name": "stdout",
     "output_type": "stream",
     "text": [
      "Value at mem[0x1000](0x11111111 for success):        0x0\n"
     ]
    }
   ],
   "source": [
    "pc = 0\n",
    "mem = np.fromfile(\"./bin/ma_data.bin\", np.uint8)\n",
    "rv32i = RV32I(\"./rv32i/rv32i\")\n",
    "\n",
    "print(\"Value at mem[0x1000](0x11111111 for success): {:#10x}\".format(mem_read(mem, 0x1000)))"
   ]
  },
  {
   "cell_type": "code",
   "execution_count": 3,
   "metadata": {},
   "outputs": [
    {
     "name": "stderr",
     "output_type": "stream",
     "text": [
      "100%|██████████| 1000/1000 [00:01<00:00, 972.33it/s]"
     ]
    },
    {
     "name": "stdout",
     "output_type": "stream",
     "text": [
      "Value at mem[0x1000](0x11111111 for success): 0x11111111\n"
     ]
    },
    {
     "name": "stderr",
     "output_type": "stream",
     "text": [
      "\n"
     ]
    }
   ],
   "source": [
    "for i in tqdm(range(1000)):\n",
    "    inst = mem_read(mem, pc)\n",
    "    #time.sleep(0.1)\n",
    "    ((wen, waddr, wdata), pc) = rv32i.forward(inst=inst, pc=pc, silent=True)\n",
    "    if (wen == 1):\n",
    "        #print(\"{:08x}: {:08x}\".format(waddr, wdata))\n",
    "        mem_write(mem, waddr, wdata)\n",
    "\n",
    "print(\"Value at mem[0x1000](0x11111111 for success): {:#10x}\".format(mem_read(mem, 0x1000)))"
   ]
  },
  {
   "cell_type": "markdown",
   "metadata": {},
   "source": [
    "# below is for debugging"
   ]
  },
  {
   "cell_type": "code",
   "execution_count": 3,
   "metadata": {},
   "outputs": [
    {
     "name": "stdout",
     "output_type": "stream",
     "text": [
      "last\n"
     ]
    }
   ],
   "source": [
    "for i in range(1000):\n",
    "    inst = mem_read(mem, pc)\n",
    "    #time.sleep(0.1)\n",
    "    ((wen, waddr, wdata), pc) = rv32i.forward(inst=inst, pc=pc, silent=True)\n",
    "    if (wen == 1):\n",
    "        print(\"{:08x}: {:08x}\".format(waddr, wdata))\n",
    "        mem_write(mem, waddr, wdata)\n",
    "    if pc == 0x50:\n",
    "        print(\"last\")\n",
    "        break"
   ]
  },
  {
   "cell_type": "code",
   "execution_count": 12,
   "metadata": {},
   "outputs": [
    {
     "name": "stdout",
     "output_type": "stream",
     "text": [
      "after\n",
      "{\"current_state\" : \"32'd64 | 32'd101 | 32'd102 | 32'd5 | 32'd104 | 32'd105 | 32'd100989949 | 32'd100992003 | 32'd4608 | 32'd109 | 32'd110 | 32'd111 | 32'd112 | 32'd113 | 32'd114 | 32'd115 | 32'd116 | 32'd117 | 32'd118 | 32'd119 | 32'd120 | 32'd121 | 32'd122 | 32'd123 | 32'd124 | 32'd125 | 32'd126 | 32'd127 | 32'd128 | 32'd129 | 32'd130 | 32'd131 # ! 1'd0 # ! 1'd0 # ! 5'd8 # ! 32'd0 # ! 32'd4615 # ! 3'd0\"}\n",
      "Inst: 0x00000033\n",
      "PC: 0\n",
      "00000060: 50731063\n"
     ]
    }
   ],
   "source": [
    "print(\"after\")\n",
    "rv32i.forward(0x00000033, 0)\n",
    "print(\"{:08x}: {:08x}\".format(pc, mem_read(mem, pc)))"
   ]
  },
  {
   "cell_type": "code",
   "execution_count": 11,
   "metadata": {},
   "outputs": [
    {
     "name": "stdout",
     "output_type": "stream",
     "text": [
      "{\"current_state\" : \"32'd64 | 32'd101 | 32'd102 | 32'd5 | 32'd104 | 32'd105 | 32'd100989949 | 32'd84148994 | 32'd4608 | 32'd109 | 32'd110 | 32'd111 | 32'd112 | 32'd113 | 32'd114 | 32'd115 | 32'd116 | 32'd117 | 32'd118 | 32'd119 | 32'd120 | 32'd121 | 32'd122 | 32'd123 | 32'd124 | 32'd125 | 32'd126 | 32'd127 | 32'd128 | 32'd129 | 32'd130 | 32'd131 # ! 1'd1 # ! 1'd0 # ! 5'd7 # ! 32'd5 # ! 32'd96 # ! 3'd2\"}\n",
      "Inst: 0x06050403\n",
      "PC: 4611\n"
     ]
    }
   ],
   "source": [
    "inst = mem_read(mem, pc)\n",
    "    #time.sleep(0.1)\n",
    "((wen, waddr, wdata), pc) = rv32i.forward(inst=inst, pc=pc, silent=False)\n",
    "if (wen == 1):\n",
    "    print(\"{:08x}: {:08x}\".format(waddr, wdata))\n",
    "    mem_write(mem, waddr, wdata)"
   ]
  },
  {
   "cell_type": "code",
   "execution_count": 7,
   "metadata": {},
   "outputs": [
    {
     "data": {
      "text/plain": [
       "((1, 4096, 286331153), 428)"
      ]
     },
     "execution_count": 7,
     "metadata": {},
     "output_type": "execute_result"
    }
   ],
   "source": [
    "((wen, waddr, wdata), pc)"
   ]
  },
  {
   "cell_type": "code",
   "execution_count": 3,
   "metadata": {},
   "outputs": [],
   "source": [
    "rv32i.stop()"
   ]
  },
  {
   "cell_type": "code",
   "execution_count": null,
   "metadata": {},
   "outputs": [],
   "source": [
    "import subprocess\n",
    "import re\n",
    "from typing import Tuple\n",
    "import json\n",
    "\n",
    "def extract_numbers(input_string: str) -> Tuple[Tuple[int, int, int], int]:\n",
    "    \"\"\"\n",
    "    Extract numbers from the given string in the format `((1'dAAA, (32'dBBB, 32'dCCC)), 32'dDDD)`\n",
    "    and return them as a tuple of integers.\n",
    "\n",
    "    Args:\n",
    "        input_string (str): The input string containing the numbers.\n",
    "\n",
    "    Returns:\n",
    "        Tuple[Tuple[int, int, int], int]: A tuple in the format ((AAA, BBB, CCC), DDD).\n",
    "    \"\"\"\n",
    "    # Regular expression to extract numbers after \"d\"\n",
    "    pattern = r\"\\d+'d(\\d+)\"\n",
    "    \n",
    "    # Find all matches of numbers in the input string\n",
    "    matches = re.findall(pattern, input_string)\n",
    "    \n",
    "    # Convert matches to integers\n",
    "    numbers = list(map(int, matches))\n",
    "    \n",
    "    # Create and return the desired tuple structure\n",
    "    return ((numbers[0], numbers[1], numbers[2]), numbers[3])\n",
    "\n",
    "def mk_fwd(fn_process: subprocess):\n",
    "    def fwd(inst:int, pc:int) -> Tuple[Tuple[int, int, int], int]:\n",
    "        inst_str = \"{}\\n\".format(inst)\n",
    "        pc_str = \"{}\\n\".format(pc)\n",
    "\n",
    "        current_state = rv32i.stdout.readline().rstrip(\"\\n\")\n",
    "        req_inst = rv32i.stdout.readline().rstrip(\"\\n\")\n",
    "\n",
    "        print(req_inst + inst_str, end=\"\")\n",
    "\n",
    "        rv32i.stdin.write(inst_str)\n",
    "        rv32i.stdin.flush()\n",
    "\n",
    "        req_pc = rv32i.stdout.readline().rstrip(\"\\n\")\n",
    "\n",
    "        print(req_pc + pc_str, end=\"\")\n",
    "\n",
    "        rv32i.stdin.write(pc_str)\n",
    "        rv32i.stdin.flush()\n",
    "\n",
    "        out_str = json.loads(rv32i.stdout.readline())[\"output\"]\n",
    "        #out_str\n",
    "        return extract_numbers(out_str)\n",
    "    \n",
    "    return fwd\n",
    "\n",
    "\n",
    "rv32i = subprocess.Popen('./rv32i/rv32i', stdin=subprocess.PIPE, stdout=subprocess.PIPE, stderr=subprocess.PIPE, text=True)\n",
    "\n",
    "fwd = mk_fwd(rv32i)\n"
   ]
  },
  {
   "cell_type": "code",
   "execution_count": 2,
   "metadata": {},
   "outputs": [
    {
     "name": "stdout",
     "output_type": "stream",
     "text": [
      "Inst: 100\n",
      "PC: 4\n",
      "((1'd0, (32'd4, 32'd0)), 32'd8)((0, 4, 0), 8)\n"
     ]
    }
   ],
   "source": [
    "print(fwd(100, 4))"
   ]
  },
  {
   "cell_type": "code",
   "execution_count": 3,
   "metadata": {},
   "outputs": [
    {
     "name": "stdout",
     "output_type": "stream",
     "text": [
      "Inst: 200\n",
      "PC: 8\n",
      "((1'd0, (32'd8, 32'd0)), 32'd12)"
     ]
    },
    {
     "data": {
      "text/plain": [
       "((0, 8, 0), 12)"
      ]
     },
     "execution_count": 3,
     "metadata": {},
     "output_type": "execute_result"
    }
   ],
   "source": [
    "fwd(200, 8)"
   ]
  },
  {
   "cell_type": "code",
   "execution_count": null,
   "metadata": {},
   "outputs": [],
   "source": []
  }
 ],
 "metadata": {
  "kernelspec": {
   "display_name": "base",
   "language": "python",
   "name": "python3"
  },
  "language_info": {
   "codemirror_mode": {
    "name": "ipython",
    "version": 3
   },
   "file_extension": ".py",
   "mimetype": "text/x-python",
   "name": "python",
   "nbconvert_exporter": "python",
   "pygments_lexer": "ipython3",
   "version": "3.11.8"
  }
 },
 "nbformat": 4,
 "nbformat_minor": 2
}
